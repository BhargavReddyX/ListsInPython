{
 "cells": [
  {
   "cell_type": "markdown",
   "id": "acaad62e",
   "metadata": {},
   "source": [
    "## LIST( ) Task 26/10/2023"
   ]
  },
  {
   "cell_type": "markdown",
   "id": "b2f0610b",
   "metadata": {},
   "source": [
    "### List( ) :\n",
    "\n",
    "* list() is a built-in constructor function that is used to create a new list. A list is a data structure that can hold an ordered collection of items, and it is one of the most commonly used data structures in Python.\n",
    "\n",
    "* You can create an empty list using list() or initialize a list with elements by passing an iterable (such as a string, tuple, or another list) as an argument to list()\n",
    "\n",
    "* list() are mutable"
   ]
  },
  {
   "cell_type": "code",
   "execution_count": 2,
   "id": "2d5feb54",
   "metadata": {},
   "outputs": [
    {
     "name": "stdout",
     "output_type": "stream",
     "text": [
      "Help on class list in module builtins:\n",
      "\n",
      "class list(object)\n",
      " |  list(iterable=(), /)\n",
      " |  \n",
      " |  Built-in mutable sequence.\n",
      " |  \n",
      " |  If no argument is given, the constructor creates a new empty list.\n",
      " |  The argument must be an iterable if specified.\n",
      " |  \n",
      " |  Methods defined here:\n",
      " |  \n",
      " |  __add__(self, value, /)\n",
      " |      Return self+value.\n",
      " |  \n",
      " |  __contains__(self, key, /)\n",
      " |      Return key in self.\n",
      " |  \n",
      " |  __delitem__(self, key, /)\n",
      " |      Delete self[key].\n",
      " |  \n",
      " |  __eq__(self, value, /)\n",
      " |      Return self==value.\n",
      " |  \n",
      " |  __ge__(self, value, /)\n",
      " |      Return self>=value.\n",
      " |  \n",
      " |  __getattribute__(self, name, /)\n",
      " |      Return getattr(self, name).\n",
      " |  \n",
      " |  __getitem__(...)\n",
      " |      x.__getitem__(y) <==> x[y]\n",
      " |  \n",
      " |  __gt__(self, value, /)\n",
      " |      Return self>value.\n",
      " |  \n",
      " |  __iadd__(self, value, /)\n",
      " |      Implement self+=value.\n",
      " |  \n",
      " |  __imul__(self, value, /)\n",
      " |      Implement self*=value.\n",
      " |  \n",
      " |  __init__(self, /, *args, **kwargs)\n",
      " |      Initialize self.  See help(type(self)) for accurate signature.\n",
      " |  \n",
      " |  __iter__(self, /)\n",
      " |      Implement iter(self).\n",
      " |  \n",
      " |  __le__(self, value, /)\n",
      " |      Return self<=value.\n",
      " |  \n",
      " |  __len__(self, /)\n",
      " |      Return len(self).\n",
      " |  \n",
      " |  __lt__(self, value, /)\n",
      " |      Return self<value.\n",
      " |  \n",
      " |  __mul__(self, value, /)\n",
      " |      Return self*value.\n",
      " |  \n",
      " |  __ne__(self, value, /)\n",
      " |      Return self!=value.\n",
      " |  \n",
      " |  __repr__(self, /)\n",
      " |      Return repr(self).\n",
      " |  \n",
      " |  __reversed__(self, /)\n",
      " |      Return a reverse iterator over the list.\n",
      " |  \n",
      " |  __rmul__(self, value, /)\n",
      " |      Return value*self.\n",
      " |  \n",
      " |  __setitem__(self, key, value, /)\n",
      " |      Set self[key] to value.\n",
      " |  \n",
      " |  __sizeof__(self, /)\n",
      " |      Return the size of the list in memory, in bytes.\n",
      " |  \n",
      " |  append(self, object, /)\n",
      " |      Append object to the end of the list.\n",
      " |  \n",
      " |  clear(self, /)\n",
      " |      Remove all items from list.\n",
      " |  \n",
      " |  copy(self, /)\n",
      " |      Return a shallow copy of the list.\n",
      " |  \n",
      " |  count(self, value, /)\n",
      " |      Return number of occurrences of value.\n",
      " |  \n",
      " |  extend(self, iterable, /)\n",
      " |      Extend list by appending elements from the iterable.\n",
      " |  \n",
      " |  index(self, value, start=0, stop=9223372036854775807, /)\n",
      " |      Return first index of value.\n",
      " |      \n",
      " |      Raises ValueError if the value is not present.\n",
      " |  \n",
      " |  insert(self, index, object, /)\n",
      " |      Insert object before index.\n",
      " |  \n",
      " |  pop(self, index=-1, /)\n",
      " |      Remove and return item at index (default last).\n",
      " |      \n",
      " |      Raises IndexError if list is empty or index is out of range.\n",
      " |  \n",
      " |  remove(self, value, /)\n",
      " |      Remove first occurrence of value.\n",
      " |      \n",
      " |      Raises ValueError if the value is not present.\n",
      " |  \n",
      " |  reverse(self, /)\n",
      " |      Reverse *IN PLACE*.\n",
      " |  \n",
      " |  sort(self, /, *, key=None, reverse=False)\n",
      " |      Sort the list in ascending order and return None.\n",
      " |      \n",
      " |      The sort is in-place (i.e. the list itself is modified) and stable (i.e. the\n",
      " |      order of two equal elements is maintained).\n",
      " |      \n",
      " |      If a key function is given, apply it once to each list item and sort them,\n",
      " |      ascending or descending, according to their function values.\n",
      " |      \n",
      " |      The reverse flag can be set to sort in descending order.\n",
      " |  \n",
      " |  ----------------------------------------------------------------------\n",
      " |  Class methods defined here:\n",
      " |  \n",
      " |  __class_getitem__(...) from builtins.type\n",
      " |      See PEP 585\n",
      " |  \n",
      " |  ----------------------------------------------------------------------\n",
      " |  Static methods defined here:\n",
      " |  \n",
      " |  __new__(*args, **kwargs) from builtins.type\n",
      " |      Create and return a new object.  See help(type) for accurate signature.\n",
      " |  \n",
      " |  ----------------------------------------------------------------------\n",
      " |  Data and other attributes defined here:\n",
      " |  \n",
      " |  __hash__ = None\n",
      "\n"
     ]
    }
   ],
   "source": [
    "help(list)"
   ]
  },
  {
   "cell_type": "code",
   "execution_count": 4,
   "id": "b48d7a02",
   "metadata": {},
   "outputs": [
    {
     "name": "stdout",
     "output_type": "stream",
     "text": [
      "[15, 'Virat', 80.55, <built-in function print>, True]\n"
     ]
    }
   ],
   "source": [
    "l=[15,'Virat',80.55,print,True]\n",
    "print(l)"
   ]
  },
  {
   "cell_type": "code",
   "execution_count": 5,
   "id": "9cf9c884",
   "metadata": {},
   "outputs": [
    {
     "name": "stdout",
     "output_type": "stream",
     "text": [
      "[15, 'Virat', 80.55, <built-in function print>, True]\n",
      "<class 'list'>\n",
      "4642545728\n",
      "5\n"
     ]
    }
   ],
   "source": [
    "print(l,type(l),id(l),len(l),sep='\\n')"
   ]
  },
  {
   "cell_type": "markdown",
   "id": "525934b2",
   "metadata": {},
   "source": [
    "### Ways to create list( )\n",
    "\n",
    "* using sqaure braces[ ]\n",
    "* using class list"
   ]
  },
  {
   "cell_type": "code",
   "execution_count": 7,
   "id": "20d85934",
   "metadata": {},
   "outputs": [
    {
     "name": "stdout",
     "output_type": "stream",
     "text": [
      "['Virat']\n",
      "<class 'list'>\n"
     ]
    }
   ],
   "source": [
    "# using square braces \n",
    "l=['Virat']\n",
    "print(l,type(l),sep='\\n') "
   ]
  },
  {
   "cell_type": "code",
   "execution_count": 8,
   "id": "c50e8982",
   "metadata": {},
   "outputs": [
    {
     "name": "stdout",
     "output_type": "stream",
     "text": [
      "['V', 'i', 'r', 'a', 't']\n"
     ]
    }
   ],
   "source": [
    "# using class list \n",
    "l=list('Virat')\n",
    "print(l)  # using 'LIST' class defining a list . it has index it follows same index"
   ]
  },
  {
   "cell_type": "markdown",
   "id": "d9d042b0",
   "metadata": {},
   "source": [
    "### List indexing:"
   ]
  },
  {
   "cell_type": "markdown",
   "id": "6986b908",
   "metadata": {},
   "source": [
    "* positive index :\n",
    "In Python, positive indexing is a way to access elements in a sequence (such as a string, list, or tuple) by counting from the beginning of the sequence. The index of the first element is 0, the second element is at index 1, the third element is at index 2, and so on. Positive indexing counts from left to right, starting at 0."
   ]
  },
  {
   "cell_type": "code",
   "execution_count": 9,
   "id": "39e70a65",
   "metadata": {},
   "outputs": [
    {
     "name": "stdout",
     "output_type": "stream",
     "text": [
      "[10, 50, 20, 70, 80, 60, 40]\n",
      "<class 'list'>\n",
      "4628343424\n",
      "10\n"
     ]
    }
   ],
   "source": [
    "x= [10,50,20,70,80,60,40]\n",
    "print(x,type(x),id(x),sep='\\n')\n",
    "print(x[0])"
   ]
  },
  {
   "cell_type": "markdown",
   "id": "57724480",
   "metadata": {},
   "source": [
    "* negative index : \n",
    "In Python, negative indexing is a way to access elements in a sequence (such as a string, list, or tuple) by counting from the end of the sequence. The index of the last element is -1, the second-to-last element is at index -2, the third-to-last element is at index -3, and so on. Negative indexing counts from right to left."
   ]
  },
  {
   "cell_type": "code",
   "execution_count": 10,
   "id": "97a39d66",
   "metadata": {},
   "outputs": [
    {
     "name": "stdout",
     "output_type": "stream",
     "text": [
      "[10, 50, 20, 70, 80, 60, 40]\n",
      "<class 'list'>\n",
      "4641621440\n",
      "40\n"
     ]
    }
   ],
   "source": [
    "x= [10,50,20,70,80,60,40]\n",
    "print(x,type(x),id(x),sep='\\n')\n",
    "print(x[-1])"
   ]
  },
  {
   "cell_type": "markdown",
   "id": "f0205f5e",
   "metadata": {},
   "source": [
    "### Slicing:\n",
    "\n",
    "* Slicing in Python is a technique that allows you to extract a portion of a sequence (like a string, list, or tuple) by specifying a range of indices. "
   ]
  },
  {
   "cell_type": "code",
   "execution_count": 11,
   "id": "f8ed5bf6",
   "metadata": {},
   "outputs": [
    {
     "name": "stdout",
     "output_type": "stream",
     "text": [
      "[0, 1, 2, 3, 4, 5, 6, 7, 8, 9]\n",
      "<class 'list'>\n",
      "4628343424\n",
      "[1, 2, 3, 4]\n"
     ]
    }
   ],
   "source": [
    "x = [0, 1, 2, 3, 4, 5, 6, 7, 8, 9]\n",
    "print(x,type(x),id(x),sep='\\n')\n",
    "print(x[1:5])\n"
   ]
  },
  {
   "cell_type": "markdown",
   "id": "b72bfe8d",
   "metadata": {},
   "source": [
    "### Length of List\n",
    "\n",
    "len() is used to get the length of the list."
   ]
  },
  {
   "cell_type": "code",
   "execution_count": 12,
   "id": "cc1494ef",
   "metadata": {},
   "outputs": [
    {
     "name": "stdout",
     "output_type": "stream",
     "text": [
      "[0, 1, 2, 3, 4, 5, 6, 7, 8, 9]\n"
     ]
    }
   ],
   "source": [
    "x = [0, 1, 2, 3, 4, 5, 6, 7, 8, 9]\n",
    "print(x)"
   ]
  },
  {
   "cell_type": "code",
   "execution_count": 13,
   "id": "951f34f9",
   "metadata": {},
   "outputs": [
    {
     "data": {
      "text/plain": [
       "10"
      ]
     },
     "execution_count": 13,
     "metadata": {},
     "output_type": "execute_result"
    }
   ],
   "source": [
    "len(x)"
   ]
  },
  {
   "cell_type": "markdown",
   "id": "e24eeca1",
   "metadata": {},
   "source": [
    "### Nested list\n",
    "\n",
    "* A nested list in Python is a list that contains other lists as its elements. This allows you to create a multi-dimensional data structure, often used to represent tables, matrices, or other hierarchical structures. You can think of a nested list as a list of lists. Here's how you create and work with nested lists in Python:"
   ]
  },
  {
   "cell_type": "code",
   "execution_count": 14,
   "id": "1480b571",
   "metadata": {},
   "outputs": [
    {
     "name": "stdout",
     "output_type": "stream",
     "text": [
      "[[1, 2, 3], [4, 5, 6], [7, 8, 9]]\n",
      "<class 'list'>\n",
      "0x114b64b80\n",
      "3\n"
     ]
    }
   ],
   "source": [
    "l= [[1, 2, 3], [4, 5, 6], [7, 8, 9]]\n",
    "\n",
    "print(l,type(l),hex(id(l)),len(l),sep='\\n')"
   ]
  },
  {
   "cell_type": "code",
   "execution_count": 16,
   "id": "511464b8",
   "metadata": {},
   "outputs": [
    {
     "data": {
      "text/plain": [
       "[7, 8, 9]"
      ]
     },
     "execution_count": 16,
     "metadata": {},
     "output_type": "execute_result"
    }
   ],
   "source": [
    "l[2]"
   ]
  },
  {
   "cell_type": "code",
   "execution_count": 18,
   "id": "598be447",
   "metadata": {},
   "outputs": [
    {
     "data": {
      "text/plain": [
       "7"
      ]
     },
     "execution_count": 18,
     "metadata": {},
     "output_type": "execute_result"
    }
   ],
   "source": [
    "l[2][0]"
   ]
  },
  {
   "cell_type": "code",
   "execution_count": 19,
   "id": "81852bc1",
   "metadata": {},
   "outputs": [
    {
     "data": {
      "text/plain": [
       "[9, 8, 7]"
      ]
     },
     "execution_count": 19,
     "metadata": {},
     "output_type": "execute_result"
    }
   ],
   "source": [
    "l[2][::-1]"
   ]
  },
  {
   "cell_type": "markdown",
   "id": "5de0bb52",
   "metadata": {},
   "source": [
    "### Range( )\n",
    "* In Python, the range() function is often used in combination with lists to generate a sequence of numbers, which can then be converted into a list if needed. The range() function generates a sequence of numbers based on the specified start, stop, and step values"
   ]
  },
  {
   "cell_type": "code",
   "execution_count": 21,
   "id": "9e1b0d89",
   "metadata": {},
   "outputs": [],
   "source": [
    "r= list(range(10))\n",
    "# This creates a list [0, 1, 2, 3, 4, 5, 6, 7, 8, 9]\n"
   ]
  },
  {
   "cell_type": "code",
   "execution_count": 22,
   "id": "ff0d17a2",
   "metadata": {},
   "outputs": [
    {
     "data": {
      "text/plain": [
       "[0, 1, 2, 3, 4, 5, 6, 7, 8, 9]"
      ]
     },
     "execution_count": 22,
     "metadata": {},
     "output_type": "execute_result"
    }
   ],
   "source": [
    "list(r)"
   ]
  },
  {
   "cell_type": "code",
   "execution_count": 24,
   "id": "e11cf590",
   "metadata": {},
   "outputs": [
    {
     "name": "stdout",
     "output_type": "stream",
     "text": [
      "range(8, 1, -1)\n",
      "<class 'range'>\n",
      "0x114020cc0\n"
     ]
    }
   ],
   "source": [
    "r=range(8,1,-1)\n",
    "print(r,type(r),hex(id(r)),sep='\\n')"
   ]
  },
  {
   "cell_type": "code",
   "execution_count": 25,
   "id": "ef820e1b",
   "metadata": {},
   "outputs": [
    {
     "data": {
      "text/plain": [
       "[8, 7, 6, 5, 4, 3, 2]"
      ]
     },
     "execution_count": 25,
     "metadata": {},
     "output_type": "execute_result"
    }
   ],
   "source": [
    "list(r)"
   ]
  },
  {
   "cell_type": "code",
   "execution_count": 26,
   "id": "903dc2a0",
   "metadata": {},
   "outputs": [
    {
     "data": {
      "text/plain": [
       "([0, 1, 2, 3, 4, 5, 6, 7, 8, 9], [0, 1, 2, 3, 4, 5, 6, 7, 8, 9])"
      ]
     },
     "execution_count": 26,
     "metadata": {},
     "output_type": "execute_result"
    }
   ],
   "source": [
    "list(range(0,10,1)),list(range(10)) "
   ]
  },
  {
   "cell_type": "markdown",
   "id": "33f2bed8",
   "metadata": {},
   "source": [
    "### Methods in list( )"
   ]
  },
  {
   "cell_type": "markdown",
   "id": "ae48b7de",
   "metadata": {},
   "source": [
    "* Methods are functions that are associated with an object or a class in Python programming. They are used to perform specific tasks or operations on the data stored within objects or classes."
   ]
  },
  {
   "cell_type": "code",
   "execution_count": 27,
   "id": "0393c875",
   "metadata": {},
   "outputs": [
    {
     "data": {
      "text/plain": [
       "['__add__',\n",
       " '__class__',\n",
       " '__class_getitem__',\n",
       " '__contains__',\n",
       " '__delattr__',\n",
       " '__delitem__',\n",
       " '__dir__',\n",
       " '__doc__',\n",
       " '__eq__',\n",
       " '__format__',\n",
       " '__ge__',\n",
       " '__getattribute__',\n",
       " '__getitem__',\n",
       " '__getstate__',\n",
       " '__gt__',\n",
       " '__hash__',\n",
       " '__iadd__',\n",
       " '__imul__',\n",
       " '__init__',\n",
       " '__init_subclass__',\n",
       " '__iter__',\n",
       " '__le__',\n",
       " '__len__',\n",
       " '__lt__',\n",
       " '__mul__',\n",
       " '__ne__',\n",
       " '__new__',\n",
       " '__reduce__',\n",
       " '__reduce_ex__',\n",
       " '__repr__',\n",
       " '__reversed__',\n",
       " '__rmul__',\n",
       " '__setattr__',\n",
       " '__setitem__',\n",
       " '__sizeof__',\n",
       " '__str__',\n",
       " '__subclasshook__',\n",
       " 'append',\n",
       " 'clear',\n",
       " 'copy',\n",
       " 'count',\n",
       " 'extend',\n",
       " 'index',\n",
       " 'insert',\n",
       " 'pop',\n",
       " 'remove',\n",
       " 'reverse',\n",
       " 'sort']"
      ]
     },
     "execution_count": 27,
     "metadata": {},
     "output_type": "execute_result"
    }
   ],
   "source": [
    "dir(l)"
   ]
  },
  {
   "cell_type": "markdown",
   "id": "ba21773f",
   "metadata": {},
   "source": [
    "### Adding elements in list ( )\n",
    "\n",
    "### Append( )\n",
    "\n",
    "* The append() method in Python is used to add a single element (item) to the end of a list. It modifies the original list by adding the specified item as a new element at the last position.\n",
    "\n",
    "#### Parameters and Values:\n",
    "\n",
    "* item (required): The element to be added to the list. This can be of any data type.\n",
    "\n",
    "#### Syntax:\n",
    "* list.append(item)\n",
    "\n",
    "#### Return Value:\n",
    "The append() method does not return a new list; it directly modifies the original list by adding the specified item to the end."
   ]
  },
  {
   "cell_type": "code",
   "execution_count": 28,
   "id": "4cb8d1d9",
   "metadata": {},
   "outputs": [
    {
     "name": "stdout",
     "output_type": "stream",
     "text": [
      "Help on built-in function append:\n",
      "\n",
      "append(object, /) method of builtins.list instance\n",
      "    Append object to the end of the list.\n",
      "\n"
     ]
    }
   ],
   "source": [
    "help(l.append)"
   ]
  },
  {
   "cell_type": "code",
   "execution_count": 29,
   "id": "b5dd449e",
   "metadata": {},
   "outputs": [
    {
     "name": "stdout",
     "output_type": "stream",
     "text": [
      "[]\n",
      "<class 'list'>\n",
      "0x114bd2680\n",
      "0\n"
     ]
    }
   ],
   "source": [
    "l=[]\n",
    "print(l,type(l),hex(id(l)),len(l),sep='\\n')"
   ]
  },
  {
   "cell_type": "code",
   "execution_count": 31,
   "id": "6c11c1f4",
   "metadata": {},
   "outputs": [
    {
     "name": "stdout",
     "output_type": "stream",
     "text": [
      "[60]\n",
      "<class 'list'>\n",
      "0x114bd2680\n",
      "1\n"
     ]
    }
   ],
   "source": [
    "l.append(60) \n",
    "print(l,type(l),hex(id(l)),len(l),sep='\\n') "
   ]
  },
  {
   "cell_type": "code",
   "execution_count": 32,
   "id": "baf519cc",
   "metadata": {},
   "outputs": [
    {
     "name": "stdout",
     "output_type": "stream",
     "text": [
      "[60, [1, 2, 3]]\n",
      "<class 'list'>\n",
      "0x114bd2680\n",
      "2\n"
     ]
    }
   ],
   "source": [
    "l.append([1,2,3])\n",
    "print(l,type(l),hex(id(l)),len(l),sep='\\n')"
   ]
  },
  {
   "cell_type": "markdown",
   "id": "33219814",
   "metadata": {},
   "source": [
    "### Insert( )"
   ]
  },
  {
   "cell_type": "markdown",
   "id": "a0585074",
   "metadata": {},
   "source": [
    "* The insert() method in Python is used to insert a specified element (item) at a given index position within a list. It allows you to modify the original list by adding an element at the specified index while shifting existing elements to make room for the new item.\n",
    "\n",
    "#### Parameters and Values:\n",
    "\n",
    "* index (required): The index at which the element will be inserted. It must be an integer.\n",
    "* item (required): The element that you want to insert into the list. This can be of any data type.\n",
    "\n",
    "#### Syntax:\n",
    "* list.insert(index, item)\n",
    "\n",
    "#### return value: \n",
    "* The insert() method does not return a new list; it directly modifies the original list by inserting the specified item at the specified index.\n"
   ]
  },
  {
   "cell_type": "code",
   "execution_count": 33,
   "id": "05fcf39d",
   "metadata": {},
   "outputs": [
    {
     "name": "stdout",
     "output_type": "stream",
     "text": [
      "Help on built-in function insert:\n",
      "\n",
      "insert(index, object, /) method of builtins.list instance\n",
      "    Insert object before index.\n",
      "\n"
     ]
    }
   ],
   "source": [
    "help(l.insert)"
   ]
  },
  {
   "cell_type": "code",
   "execution_count": 34,
   "id": "41a75dd2",
   "metadata": {},
   "outputs": [
    {
     "data": {
      "text/plain": [
       "[60, [1, 2, 3]]"
      ]
     },
     "execution_count": 34,
     "metadata": {},
     "output_type": "execute_result"
    }
   ],
   "source": [
    "l"
   ]
  },
  {
   "cell_type": "code",
   "execution_count": 35,
   "id": "74c83109",
   "metadata": {},
   "outputs": [
    {
     "data": {
      "text/plain": [
       "[60, 40, [1, 2, 3]]"
      ]
     },
     "execution_count": 35,
     "metadata": {},
     "output_type": "execute_result"
    }
   ],
   "source": [
    "l.insert(1,40) \n",
    "l"
   ]
  },
  {
   "cell_type": "code",
   "execution_count": 36,
   "id": "8ba6a493",
   "metadata": {},
   "outputs": [
    {
     "data": {
      "text/plain": [
       "[60, 40, 'virat', [1, 2, 3]]"
      ]
     },
     "execution_count": 36,
     "metadata": {},
     "output_type": "execute_result"
    }
   ],
   "source": [
    "l.insert(-1,'virat')\n",
    "l"
   ]
  },
  {
   "cell_type": "markdown",
   "id": "da20e748",
   "metadata": {},
   "source": [
    "### Extend( )\n",
    "\n",
    "* The extend() method in Python is used to extend a list by appending elements from an iterable (e.g., another list, tuple, or string) to the end of the list. It allows you to modify the original list by adding multiple elements from the iterable.\n",
    "\n",
    "#### Parameters and Values:\n",
    "\n",
    "* iterable (required): The iterable from which elements will be appended to the list.\n",
    "\n",
    "#### Syntax:\n",
    "* list.extend(iterable)\n",
    "\n",
    "#### Return Value:\n",
    "* The extend() method does not return a new list; it directly modifies the original list by appending elements from the iterable.\n",
    "\n",
    "\n"
   ]
  },
  {
   "cell_type": "code",
   "execution_count": 37,
   "id": "bb5e6944",
   "metadata": {},
   "outputs": [
    {
     "name": "stdout",
     "output_type": "stream",
     "text": [
      "Help on built-in function extend:\n",
      "\n",
      "extend(iterable, /) method of builtins.list instance\n",
      "    Extend list by appending elements from the iterable.\n",
      "\n"
     ]
    }
   ],
   "source": [
    "help(l.extend)"
   ]
  },
  {
   "cell_type": "code",
   "execution_count": 38,
   "id": "26727cff",
   "metadata": {},
   "outputs": [
    {
     "name": "stdout",
     "output_type": "stream",
     "text": [
      "[1, 2, 3, 7, 8, 9]\n"
     ]
    }
   ],
   "source": [
    "l=[1,2,3]\n",
    "l.extend([7,8,9])\n",
    "print(l)"
   ]
  },
  {
   "cell_type": "markdown",
   "id": "b789463f",
   "metadata": {},
   "source": [
    "### Deleting items in list( )\n",
    "\n",
    "### Remove( )\n",
    "* The remove() method in Python is used to remove the first occurrence of a specified element from a list. It modifies the original list by searching for the given element and removing it if found.\n",
    "\n",
    "#### Parameters and Values:\n",
    "\n",
    "* item (required): The element to be removed from the list.\n",
    "\n",
    "#### Syntax:\n",
    "* list.remove(item)\n",
    "\n",
    "#### Return Value:\n",
    "* The remove() method does not return a value; it directly modifies the original list by removing the specified item. If the element is not found in the list, it raises a ValueError indicating that the item is not present in the list.\n"
   ]
  },
  {
   "cell_type": "code",
   "execution_count": 49,
   "id": "de4d4e88",
   "metadata": {},
   "outputs": [
    {
     "data": {
      "text/plain": [
       "['V', 'i', 'r', 'a', 't', 'K', 'i', 'n', 'g', 'K', 'o', 'h', 'l', 'i']"
      ]
     },
     "execution_count": 49,
     "metadata": {},
     "output_type": "execute_result"
    }
   ],
   "source": [
    "x=list('ViratKingKohli')\n",
    "x"
   ]
  },
  {
   "cell_type": "code",
   "execution_count": 50,
   "id": "be3f4816",
   "metadata": {},
   "outputs": [
    {
     "data": {
      "text/plain": [
       "['V', 'r', 'a', 't', 'K', 'i', 'n', 'g', 'K', 'o', 'h', 'l', 'i']"
      ]
     },
     "execution_count": 50,
     "metadata": {},
     "output_type": "execute_result"
    }
   ],
   "source": [
    "x.remove('i')\n",
    "x"
   ]
  },
  {
   "cell_type": "markdown",
   "id": "18032630",
   "metadata": {},
   "source": [
    "### Pop( )\n",
    "* The pop() method in Python is used to remove and return an element from a list based on a specified index. It modifies the original list by removing the element at the given index and returning it.\n",
    "\n",
    "#### Parameters and Values:\n",
    "\n",
    "* index (optional): The index of the element you want to remove from the list. If not provided, it defaults to the last element (index -1).\n",
    "\n",
    "#### Syntax:\n",
    "* list.pop([index])\n",
    "\n",
    "#### Return Value:\n",
    "The pop() method returns the element that was removed from the list. If the index parameter is not provided, it removes and returns the last element. If the index is out of range, it raises an IndexError.\n",
    "\n",
    "\n"
   ]
  },
  {
   "cell_type": "code",
   "execution_count": null,
   "id": "bb38081e",
   "metadata": {},
   "outputs": [],
   "source": []
  }
 ],
 "metadata": {
  "kernelspec": {
   "display_name": "Python 3 (ipykernel)",
   "language": "python",
   "name": "python3"
  },
  "language_info": {
   "codemirror_mode": {
    "name": "ipython",
    "version": 3
   },
   "file_extension": ".py",
   "mimetype": "text/x-python",
   "name": "python",
   "nbconvert_exporter": "python",
   "pygments_lexer": "ipython3",
   "version": "3.11.5"
  }
 },
 "nbformat": 4,
 "nbformat_minor": 5
}
